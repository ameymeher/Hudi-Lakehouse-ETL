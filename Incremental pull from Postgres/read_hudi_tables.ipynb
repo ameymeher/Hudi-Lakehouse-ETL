{
 "cells": [
  {
   "cell_type": "code",
   "execution_count": 18,
   "metadata": {},
   "outputs": [],
   "source": [
    "import os\n",
    "import sys\n",
    "from pyspark.sql import SparkSession"
   ]
  },
  {
   "cell_type": "code",
   "execution_count": 19,
   "metadata": {},
   "outputs": [],
   "source": [
    "HUDI_VERSION = '0.15.0'\n",
    "SPARK_VERSION = '3.4'\n",
    "\n",
    "SUBMIT_ARGS = f\"--packages org.apache.hudi:hudi-spark{SPARK_VERSION}-bundle_2.12:{HUDI_VERSION} pyspark-shell\"\n",
    "os.environ[\"PYSPARK_SUBMIT_ARGS\"] = SUBMIT_ARGS\n",
    "os.environ['PYSPARK_PYTHON'] = sys.executable"
   ]
  },
  {
   "cell_type": "code",
   "execution_count": 20,
   "metadata": {},
   "outputs": [],
   "source": [
    "spark = SparkSession.builder \\\n",
    "    .config('spark.serializer', 'org.apache.spark.serializer.KryoSerializer') \\\n",
    "    .config('spark.sql.extensions', 'org.apache.spark.sql.hudi.HoodieSparkSessionExtension') \\\n",
    "    .config('className', 'org.apache.hudi') \\\n",
    "    .config('spark.sql.hive.convertMetastoreParquet', 'false') \\\n",
    "    .getOrCreate()"
   ]
  },
  {
   "cell_type": "code",
   "execution_count": 21,
   "metadata": {},
   "outputs": [],
   "source": [
    "path = \"file:///Users/amey/Desktop/repos/Real-time-Lakehouse-Analytics/Incremental pull from Postgres/target/\""
   ]
  },
  {
   "cell_type": "code",
   "execution_count": 23,
   "metadata": {},
   "outputs": [
    {
     "name": "stdout",
     "output_type": "stream",
     "text": [
      "Reading from Spark\n",
      "+-------------------+--------------------+------------------+----------------------+--------------------+-------+---------+------+---------------+------+--------+----------+------------+-----------+--------------------+----------------+\n",
      "|_hoodie_commit_time|_hoodie_commit_seqno|_hoodie_record_key|_hoodie_partition_path|   _hoodie_file_name|salesid|invoiceid|itemid|       category| price|quantity| orderdate|shippingtype|   referral|          updated_at|destinationstate|\n",
      "+-------------------+--------------------+------------------+----------------------+--------------------+-------+---------+------+---------------+------+--------+----------+------------+-----------+--------------------+----------------+\n",
      "|  20240912233509999|20240912233509999...|                 4|               Florida|214cf55c-282f-453...|      4|      104|     4|Books and Games| 15.75|       3|2023-11-24|    Standard|SocialMedia|2024-09-12 18:04:...|         Florida|\n",
      "|  20240912233251760|20240912233251760...|                 1|            California|49bebf13-ffc8-4a0...|      1|      101|     1|    Electronics|599.99|       2|2023-11-21|     Express|     Friend|2024-09-12 17:29:...|      California|\n",
      "|  20240912233251760|20240912233251760...|                 3|                 Texas|d02ca700-8460-403...|      3|      103|     2|  Home & Garden|199.50|       1|2023-11-23|     Express|WordOfMouth|2024-09-12 17:29:...|           Texas|\n",
      "|  20240912233251760|20240912233251760...|                 2|              New York|2635a473-6f93-46e...|      2|      102|     3|       Clothing| 49.99|       5|2023-11-22|    Standard|   OnlineAd|2024-09-12 17:29:...|        New York|\n",
      "+-------------------+--------------------+------------------+----------------------+--------------------+-------+---------+------+---------------+------+--------+----------+------------+-----------+--------------------+----------------+\n",
      "\n"
     ]
    }
   ],
   "source": [
    "hudi_df = spark.read.format(\"org.apache.hudi\").load(path)\n",
    "hudi_df.createOrReplaceTempView(\"sales\")\n",
    "print(\"Reading from Spark\")\n",
    "\n",
    "# Sample query on the Hudi DataFrame\n",
    "query = \"SELECT * FROM sales\"\n",
    "result_df = spark.sql(query)\n",
    "result_df.show()"
   ]
  }
 ],
 "metadata": {
  "kernelspec": {
   "display_name": "realtime-lakehouse-analytics",
   "language": "python",
   "name": "python3"
  },
  "language_info": {
   "codemirror_mode": {
    "name": "ipython",
    "version": 3
   },
   "file_extension": ".py",
   "mimetype": "text/x-python",
   "name": "python",
   "nbconvert_exporter": "python",
   "pygments_lexer": "ipython3",
   "version": "3.12.4"
  }
 },
 "nbformat": 4,
 "nbformat_minor": 2
}
